{
 "cells": [
  {
   "cell_type": "markdown",
   "metadata": {
    "deletable": true,
    "editable": true
   },
   "source": [
    "## Data 558 Final Project - Code part 2: \n",
    "**Based on milestone in homeworks 7 and 8**\n",
    "\n",
    "Alyssa Goodrich  \n",
    "June 4, 2017"
   ]
  },
  {
   "cell_type": "markdown",
   "metadata": {
    "deletable": true,
    "editable": true
   },
   "source": [
    "**Section 1: Load packages and clean data, and write some basic utility functions (e.g., create a file for kaggle submissions)**"
   ]
  },
  {
   "cell_type": "code",
   "execution_count": 1,
   "metadata": {
    "collapsed": true,
    "deletable": true,
    "editable": true,
    "scrolled": true
   },
   "outputs": [],
   "source": [
    "#Load necessary packages\n",
    "import numpy as np\n",
    "from copy import deepcopy\n",
    "import matplotlib.pyplot as plt\n",
    "% matplotlib inline\n",
    "import pandas as pd\n",
    "import math\n",
    "from scipy.linalg import eigh as largest_eigh\n",
    "from sklearn.svm import LinearSVC\n",
    "from sklearn.linear_model import LogisticRegressionCV\n",
    "from sklearn.model_selection import train_test_split\n",
    "from IPython.core.debugger import Tracer\n",
    "from multiprocessing.dummy import Pool as ThreadPool\n",
    "from sklearn.svm import SVC\n",
    "from scipy import stats\n",
    "from sklearn.linear_model import LogisticRegression\n",
    "from sklearn.ensemble import VotingClassifier\n"
   ]
  },
  {
   "cell_type": "code",
   "execution_count": 2,
   "metadata": {
    "collapsed": false,
    "deletable": true,
    "editable": true,
    "scrolled": true
   },
   "outputs": [],
   "source": [
    "data = pd.read_csv('https://s3.amazonaws.com/data558ag/Project/features.csv', sep=',', header=None)\n",
    "labels = pd.read_csv('https://s3.amazonaws.com/data558ag/Project/labels.csv', sep=',', header=None)\n",
    "testFeatures = pd.read_csv('https://s3.amazonaws.com/data558ag/Project/testFeatures.csv', sep=',', header=None)\n",
    "testLabels = pd.read_csv('https://s3.amazonaws.com/data558ag/Project/testLabels.csv', sep=',', header=None, dtype = int)\n",
    "testLabels = np.array(testLabels)[:,0]\n",
    "dataLabels = pd.read_csv('https://s3.amazonaws.com/data558ag/Project/DataLabels.csv', sep=',', header=None)\n",
    "dataLabels = np.array(dataLabels)\n",
    "dataLabels[:,0]\n",
    "y = labels\n",
    "y = np.array(y)\n",
    "x = data\n",
    "Cats, y = np.unique(y, return_inverse = True)\n",
    "# ySub = (y <10)\n",
    "# x= x[ySub]\n",
    "# y = y[ySub]\n",
    "xMean = np.mean(x, axis = 0)\n",
    "xStd = np.std(x, axis = 0)\n",
    "testFeatures = (testFeatures - xMean)/xStd\n",
    "x = (x - np.mean(x, axis =0))/(np.std(x,axis = 0))\n",
    "x = np.array(x)\n",
    "\n",
    "#Thanks to scikit learn documentation for demonstrating this way to extract a training set with same proportions of samples in test and train set as in original data \n",
    "from sklearn.model_selection import StratifiedShuffleSplit\n",
    "def splitTestTrain(x, y, testPCT, numSplits):\n",
    "    sss = StratifiedShuffleSplit(n_splits=numSplits, test_size=testPCT, random_state=0)\n",
    "    for train_index, test_index in sss.split(x,y):\n",
    "        xTrain, xTest = x[train_index], x[test_index]\n",
    "        yTrain, yTest = y[train_index], y[test_index]\n",
    "        return (xTrain, xTest,yTrain, yTest)\n",
    "\n",
    "xTrain, xTest,yTrain, yTest = splitTestTrain(x,y,.2, 1)\n",
    "beta_init = np.zeros(x.shape[1])\n",
    "testingBetas = np.random.randint(-50,50, size = x.shape[1])/50\n"
   ]
  },
  {
   "cell_type": "code",
   "execution_count": 3,
   "metadata": {
    "collapsed": false,
    "deletable": true,
    "editable": true,
    "scrolled": true
   },
   "outputs": [],
   "source": [
    "#I trained all my data using different numerical interpretation of bird name strings. This function maps my numerical interpretation back into the expected numerical interpretation.\n",
    "\n",
    "def convertY(preds, Cats = Cats, labels = dataLabels):\n",
    "    #preds is my predictions based on my categories\n",
    "    #Cats is the link back to the name of the bird from my category\n",
    "    #Labels is the correct bird / number mapping as defined by the contest organizer\n",
    "    namePreds = Cats[preds]\n",
    "    numPreds = ()\n",
    "    namPredsCheck = ()\n",
    "    \n",
    "    for i in range(len(preds)):\n",
    "        newCatPred = labels[np.where(labels[:,1] == Cats[preds][i])[0],0]  \n",
    "        newNamePred = labels[np.where(labels[:,1] == Cats[preds][i])[0],1]\n",
    "        #print(i,newCatPred,newNamePred)\n",
    "        numPreds = np.append(numPreds, newCatPred)\n",
    "        namPredsCheck = np.append(namPredsCheck, newNamePred)\n",
    "    return(numPreds)\n"
   ]
  },
  {
   "cell_type": "code",
   "execution_count": 6,
   "metadata": {
    "collapsed": false,
    "deletable": true,
    "editable": true,
    "scrolled": true
   },
   "outputs": [],
   "source": [
    "#create a function to keep a table of all predictions I have made and the name of model that created each prediction\n",
    "currentModelList = ()\n",
    "\n",
    "def predictionLog(predictions, modelName, currentModelList, PredictionLog):\n",
    "    #predictions are the predictions you want to add to the log\n",
    "    #ModelName is the model that created the predictions you want to add \n",
    "    #CurrentModelList is a list of models with predictions currently in the log (If ModelName is not on currentModelList then the function will create a new column for the predictions. If the modelName is already on the list the function will overwrite the old predictions for that model with new predictions for the model.)\n",
    "    if len(currentModelList) == 0:\n",
    "        PredictionLog = predictions\n",
    "        currentModelList = np.append(currentModelList, modelName)\n",
    "        PredictionLog = PredictionLog\n",
    "    elif modelName in currentModelList:\n",
    "        index = np.where(currentModelList == modelName)[0]\n",
    "        PredictionLog[index,:] = deepcopy(predictions) #[:, np.newaxis])\n",
    "    else:\n",
    "        index = len(currentModelList)\n",
    "#         print('PredictionLog.shape:',PredictionLog.shape, PredictionLog.ndim)\n",
    "#         print('predictions.shape:',predictions.shape)\n",
    "\n",
    "        PredictionLog = np.vstack((PredictionLog, predictions))\n",
    "        currentModelList = np.append(currentModelList, modelName)\n",
    "    PredictionLog = np.array(PredictionLog)\n",
    "    return(PredictionLog, currentModelList)\n",
    "    \n",
    "    "
   ]
  },
  {
   "cell_type": "code",
   "execution_count": 16,
   "metadata": {
    "collapsed": false,
    "deletable": true,
    "editable": true,
    "scrolled": true
   },
   "outputs": [],
   "source": [
    "#create a function to turn my predictions into a submission file\n",
    "def predstoFile(preds, filename):\n",
    "    newpreds = convertY(preds, Cats, dataLabels) #Converts predictions using my labels to predictions with the standard labels\n",
    "    LabsPreds = np.stack((testLabels,newpreds)).T # links predictions to corresponding image label\n",
    "    LabsPreds = LabsPreds.astype(int) #converts to integer type for sorting\n",
    "    LabsPreds = LabsPreds[np.argsort(LabsPreds[:, 0])]\n",
    "    names = np.array(['Id', 'Prediction'])\n",
    "    LabsPreds = np.vstack((names, LabsPreds))\n",
    "    np.savetxt(filename, LabsPreds, delimiter = \",\", fmt='%s')\n",
    "    return\n"
   ]
  },
  {
   "cell_type": "markdown",
   "metadata": {
    "deletable": true,
    "editable": true
   },
   "source": [
    "**This section is based on the milestones in homework 7**  \n",
    "  \n",
    "**Bullet 1:** In a one-vs-one fashion, for each pairs of classes, train a linear SVM classiﬁer using scikit-learn’s function LinearSVC, with the default value for the regularization parameter. Compute the multi-class misclassiﬁcation error obtained using these classiﬁers trained in a one-vs-one fashion. "
   ]
  },
  {
   "cell_type": "code",
   "execution_count": 517,
   "metadata": {
    "collapsed": true,
    "deletable": true,
    "editable": true,
    "scrolled": true
   },
   "outputs": [],
   "source": [
    "#Initialize function to extract two categories from data to use in training for one versus one \n",
    "\n",
    "def subset_data_1v1(x, y, c, c1):\n",
    "    #x is the dataset with features\n",
    "    #y is the dataset with labels\n",
    "    #c is the category that was chosen (i.e., y[y ==c] = 1)\n",
    "    #c1 is the category that we will compare c to (i.e., y[y ==c1] =-1)\n",
    "    #outputs a new dataset with only two categories yBin is a binary version of y where category c = 1 and category c1 = -1\n",
    "    if sum(y == c) == 0: \n",
    "            raise ('Category selected does not exist in this data') \n",
    "    else:\n",
    "        ysubc = ((y==c)+(y==c1))\n",
    "        y, x = y[ysubc], x[ysubc]\n",
    "        yBin = deepcopy(y)\n",
    "        yBin[y==c1], yBin[y==c] = -1, 1\n",
    "        \n",
    "       \n",
    "    return(x, y, yBin)"
   ]
  },
  {
   "cell_type": "code",
   "execution_count": 9,
   "metadata": {
    "collapsed": true,
    "deletable": true,
    "editable": true,
    "scrolled": true
   },
   "outputs": [],
   "source": [
    "#Initialize a function to create predictions for each combination of classes in 1v1 \n",
    "def oneVsoneCreatePreds(xTrain, yTrain, xTest, lam = 1):\n",
    "    Cs = np.unique(yTrain)\n",
    "    Models = np.ndarray([len(Cs), len(Cs), xTrain.shape[1]])    \n",
    "    Preds = np.ndarray([len(Cs), len(Cs), xTest.shape[0]])\n",
    "    for i in range(len(Cs)):\n",
    "        c = Cs[i]\n",
    "        for j in range(len(Cs)):\n",
    "            c1 = Cs[j]\n",
    "            if c == c1:\n",
    "                Preds[np.where(Cs == c1)[0],np.where(Cs == c)[0],:] = np.zeros(xTest.shape[0])\n",
    "\n",
    "            else:\n",
    "                xTemp, yTemp, yBin = subset_data_1v1(x = xTrain, y =yTrain, c = c, c1= c1)\n",
    "                model = LinearSVC(fit_intercept = False, C = lam)\n",
    "                model.fit(xTemp,yBin)\n",
    "                Preds[np.where(Cs == c1)[0],np.where(Cs == c)[0],:] = model.predict(xTest)\n",
    "    PredSum = np.sum(Preds, axis = 0) #Sums all the predictions\n",
    "    MaxPredIndex = np.argmax(PredSum, axis = 0) # Finds the index that is most often predicted\n",
    "    CatPred = Cs[MaxPredIndex]\n",
    "    return(CatPred)        \n",
    "           "
   ]
  },
  {
   "cell_type": "code",
   "execution_count": 10,
   "metadata": {
    "collapsed": true,
    "deletable": true,
    "editable": true,
    "scrolled": true
   },
   "outputs": [],
   "source": [
    "# Initialize a function to calculate the misclassificatin error\n",
    "def CalcError(xTest, yTest, xTrain, yTrain, PredictionModel, lam = 1):\n",
    "    Preds = PredictionModel(xTrain = xTrain, yTrain=yTrain, xTest= xTest, lam = 1)\n",
    "    error = 1- np.mean(np.equal(Preds,yTest))\n",
    "    return(error)\n",
    "    "
   ]
  },
  {
   "cell_type": "code",
   "execution_count": 10,
   "metadata": {
    "collapsed": false,
    "deletable": true,
    "editable": true,
    "scrolled": true
   },
   "outputs": [
    {
     "name": "stdout",
     "output_type": "stream",
     "text": [
      "The error using a one vs one approach is: 0.335648148148\n"
     ]
    }
   ],
   "source": [
    "#Use the above functions to create predictions for 1 vs 1\n",
    "Models1V1 = oneVsoneCreateModels(x = xTrain, y = yTrain, lam = 1)\n",
    "Preds1v1 = oneVsoneMakePredictions(x = xTest, y = yTest, Models = Models1V1)\n",
    "\n",
    "error1v1 = 1- np.mean(np.equal(Preds1v1,yTest))\n",
    "print(\"The error using a one vs one approach is:\", error1v1)\n"
   ]
  },
  {
   "cell_type": "markdown",
   "metadata": {
    "deletable": true,
    "editable": true
   },
   "source": [
    "**Bullet 2:** In a one-vs-rest fashion, for each class, train a linear SVM classifier using scikit-learn’s function LinearSVC, with the default value for λc. Compute the multi-class misclassification error obtained using these classifiers trained in a one-vs-rest fashion."
   ]
  },
  {
   "cell_type": "code",
   "execution_count": 11,
   "metadata": {
    "collapsed": false,
    "deletable": true,
    "editable": true,
    "scrolled": true
   },
   "outputs": [],
   "source": [
    "#Initialize a function to create models to classify each element C vs all elements not equal to C\n",
    " \n",
    "def oneVsRestCreateModels(x, y, lam = 1):\n",
    "    model = LinearSVC(fit_intercept = False, C = lam, class_weight = 'balanced', multi_class = 'ovr')\n",
    "    model.fit(x,y)\n",
    "    coef = model.coef_\n",
    "    return(coef)        "
   ]
  },
  {
   "cell_type": "code",
   "execution_count": 12,
   "metadata": {
    "collapsed": false,
    "deletable": true,
    "editable": true,
    "scrolled": false
   },
   "outputs": [],
   "source": [
    "def oneVsRestMakePredictions(yTest,xTest, Models):\n",
    "    # X is input data\n",
    "    # y is response data\n",
    "    # Models is a matrix of models used to create predictions for the response\n",
    "    Cs = np.unique(yTest)\n",
    "    Predictions = np.zeros([Models.shape[0], xTest.shape[0]])    \n",
    "    \n",
    "    for i in range(Predictions.shape[0]):\n",
    "        if i % 10 == 0:\n",
    "            print(i)\n",
    "        c = Cs[i]\n",
    "        betaTemp = Models[i,:]\n",
    "        pred = 1/(1+np.exp(-xTest.dot(betaTemp)))\n",
    "        Predictions[i,:] = deepcopy(pred) \n",
    "    MaxPredIndex = np.argmax(Predictions, axis = 0) # Finds the index that is most often predicted\n",
    "    CatPred = Cs[MaxPredIndex]# Finds the category assocated with the index\n",
    "    return(CatPred)  \n"
   ]
  },
  {
   "cell_type": "code",
   "execution_count": 14,
   "metadata": {
    "collapsed": false,
    "deletable": true,
    "editable": true,
    "scrolled": true
   },
   "outputs": [
    {
     "name": "stdout",
     "output_type": "stream",
     "text": [
      "0\n",
      "10\n",
      "20\n",
      "30\n",
      "40\n",
      "50\n",
      "60\n",
      "70\n",
      "80\n",
      "90\n",
      "100\n",
      "110\n",
      "120\n",
      "130\n",
      "140\n",
      "The error using a one vs rest approach is: 0.712962962963\n"
     ]
    }
   ],
   "source": [
    "Models1VR = oneVsRestCreateModels(x = xTrain, y = yTrain, lam = 1)\n",
    "OneVRPreds = oneVsRestMakePredictions(xTest = xTest, yTest = yTest, Models = Models1VR)\n",
    "error1vR = 1- np.mean(np.equal(OneVRPreds,yTest))\n",
    "print(\"The error using a one vs rest approach is:\", error1vR)\n",
    "\n",
    "# error1VR = CalcError(xTest = xTest, yTest = yTest, xTrain = xTrain, yTrain = yTrain, CreationModel =oneVsRestCreateModels, PredictionModel = oneVsRestMakePredictions, lam = 1 )\n",
    "\n",
    "# print(\"The error using a one versus rest approach is:\", error1vR)"
   ]
  },
  {
   "cell_type": "markdown",
   "metadata": {
    "deletable": true,
    "editable": true
   },
   "source": [
    "**Bullet 3:** Using the option multi class=’crammer singer’ in scikitlearn’s function LinearSVC, train a multi-class linear SVM classifier using the default value for the regularization parameter. Compute the multi-class misclassification error obtained using this multiclass linear SVM classifier."
   ]
  },
  {
   "cell_type": "code",
   "execution_count": 13,
   "metadata": {
    "collapsed": false,
    "deletable": true,
    "editable": true,
    "scrolled": true
   },
   "outputs": [],
   "source": [
    " def oneVsRestCreateModelCS(x, y, lam = 1):\n",
    "    model = LinearSVC(fit_intercept = False, C = lam, class_weight = 'balanced', multi_class = 'crammer_singer')\n",
    "    model.fit(x,y)\n",
    "    coef = model.coef_\n",
    "    return(coef)        "
   ]
  },
  {
   "cell_type": "code",
   "execution_count": 17,
   "metadata": {
    "collapsed": false,
    "deletable": true,
    "editable": true,
    "scrolled": true
   },
   "outputs": [
    {
     "name": "stdout",
     "output_type": "stream",
     "text": [
      "0\n",
      "10\n",
      "20\n",
      "30\n",
      "40\n",
      "50\n",
      "60\n",
      "70\n",
      "80\n",
      "90\n",
      "100\n",
      "110\n",
      "120\n",
      "130\n",
      "140\n",
      "The error using Crammer-Singer is: 0.324074074074\n"
     ]
    }
   ],
   "source": [
    "Models1VRCS = oneVsRestCreateModelCS(x = xTrain, y = yTrain, lam = 1)\n",
    "OneVRPredsCS = oneVsRestMakePredictions(xTest = xTest, yTest = yTest, Models = Models1VRCS)\n",
    "errorCS = 1- np.mean(np.equal(OneVRPredsCS,yTest))\n",
    "print(\"The error using Crammer-Singer is:\", errorCS)\n",
    "\n",
    "# errorCS = CalcError(xTest = xTest, yTest = yTest, xTrain = xTrain, yTrain = yTrain, CreationModel =oneVsRestCreateModelCS, PredictionModel = oneVsRestMakePredictions, lam = 1 )\n",
    "# print(\"The error using Crammer-Singer is:\", errorCS)\n"
   ]
  },
  {
   "cell_type": "markdown",
   "metadata": {
    "deletable": true,
    "editable": true
   },
   "source": [
    "**Linear SVMs for multi-class classification:** Redo all questions above now tuning the regularization parameters using cross-validation."
   ]
  },
  {
   "cell_type": "markdown",
   "metadata": {
    "deletable": true,
    "editable": true
   },
   "source": [
    "**One vs one**"
   ]
  },
  {
   "cell_type": "code",
   "execution_count": 11,
   "metadata": {
    "collapsed": false,
    "deletable": true,
    "editable": true,
    "scrolled": true
   },
   "outputs": [
    {
     "name": "stdout",
     "output_type": "stream",
     "text": [
      "aa\n",
      "a\n",
      "a\n",
      "\n",
      "a\n",
      "a\n",
      "a\n",
      "b\n",
      "a\n",
      "b\n",
      "a\n",
      "b\n",
      "b\n",
      "b\n",
      "b\n",
      "b\n",
      "b\n",
      "b\n",
      "The errors corresponding to lambdas are: [ 0.49768519  0.38888889  0.33912037  0.33680556  0.33564815  0.33564815\n",
      "  0.33564815  0.33564815  0.33564815]\n"
     ]
    }
   ],
   "source": [
    "pool = ThreadPool(7)\n",
    "lambdas = (.00001, .0001, .001, .01, .1, 1, 10, 100, 1000)\n",
    "#Corinne, thanks for tip on using print statements to test whether we are parallel processing despite global variables. We are. \n",
    "def findError1V1Test(lam):\n",
    "    print(\"a\")\n",
    "    Preds1v1 = oneVsoneCreatePreds(xTrain, yTrain, xTest, lam = lam)\n",
    "    print(\"b\")\n",
    "    error1v1 = 1- np.mean(np.equal(Preds1v1,yTest))\n",
    "    return(error1v1, Preds1v1)\n",
    "resultsOvO = pool.map(findError1V1Test, lambdas)\n",
    "pool.close\n",
    "pool.join\n",
    "       \n",
    "errors = np.asarray([x[0] for x in resultsOvO]).T\n",
    "print(\"The errors corresponding to lambdas are:\", errors)\n",
    "a = errors.shape[0]\n",
    "LamError = np.append(lambdas, errors)\n",
    "LamError = np.reshape(LamError, (2, a))\n",
    "np.savetxt(\"OneVOneError.csv\", LamError, delimiter = \",\")\n",
    "\n",
    "\n",
    "preds = np.asarray([x[1] for x in resultsOvO]).T\n",
    "a,b =(preds.shape)\n",
    "LamPred = np.append(lambdas, preds)\n",
    "LamPred = np.reshape(LamPred, (a+1, b))\n",
    "np.savetxt(\"OneVOnePreds.csv\", LamPred, delimiter = \",\")\n"
   ]
  },
  {
   "cell_type": "code",
   "execution_count": 121,
   "metadata": {
    "collapsed": false,
    "deletable": true,
    "editable": true
   },
   "outputs": [
    {
     "data": {
      "text/plain": [
       "array([114,  41,  49, ...,  94,  93,  69])"
      ]
     },
     "execution_count": 121,
     "metadata": {},
     "output_type": "execute_result"
    }
   ],
   "source": [
    "#Calculate predictions with the lambda we determeined to be the best lambda\n",
    "Preds1v1 = oneVsoneCreatePreds(x, y, testFeatures, lam = .1)\n",
    "\n",
    "#Add our 1 v 1 with optimal lambda to the prediction log so I can later use it to vote on the best prediction\n",
    "PredictionLog, currentModelList = predictionLog(Preds1v1, 'OneVOneLam01', currentModelList = currentModelList, PredictionLog = PredictionLog)\n"
   ]
  },
  {
   "cell_type": "markdown",
   "metadata": {
    "deletable": true,
    "editable": true
   },
   "source": [
    "**One vs Rest**"
   ]
  },
  {
   "cell_type": "code",
   "execution_count": 345,
   "metadata": {
    "collapsed": true,
    "deletable": true,
    "editable": true,
    "scrolled": true
   },
   "outputs": [],
   "source": [
    "#Createp one vs rest predictions \n",
    "def oneVsRestCreatePreds(xTrain, yTrain, xTest, lam = 1):\n",
    "    model = LinearSVC(fit_intercept = False, C = lam, class_weight = 'balanced', multi_class = 'ovr')\n",
    "    model.fit(xTrain,yTrain)\n",
    "    Preds = model.predict(xTest)\n",
    "    return(Preds)        "
   ]
  },
  {
   "cell_type": "code",
   "execution_count": 7,
   "metadata": {
    "collapsed": false,
    "deletable": true,
    "editable": true,
    "scrolled": true
   },
   "outputs": [
    {
     "name": "stdout",
     "output_type": "stream",
     "text": [
      "The errors corresponding to lambdas are: [ 0.45138889  0.37268519  0.35763889  0.40972222  0.48726852  0.69791667 0.74768519  0.74768519  0.74189815]\n"
     ]
    }
   ],
   "source": [
    "#Cross validate using an array of lambdas to find the best lambda\n",
    "pool = ThreadPool(7)\n",
    "lambdas = (.00001, .0001, .001, .01, .1, 1, 10, 100, 1000)\n",
    "\n",
    "def findError1VR(lam):\n",
    "#     print(\"a\")\n",
    "    OneVRPreds = oneVsRestCreatePreds(xTrain, yTrain, xTest, lam = lam)\n",
    "    error1vR = 1- np.mean(np.equal(OneVRPreds,yTest))\n",
    "    return(error1vR, OneVRPreds)\n",
    "\n",
    "resultsOvR = pool.map(findError1VR, lambdas)\n",
    "pool.close\n",
    "pool.join\n",
    "           \n",
    "errors = np.asarray([x[0] for x in resultsOvR]).T\n",
    "print(\"The errors corresponding to lambdas are:\", errors)\n",
    "a = errors.shape[0]\n",
    "LamError = np.append(lambdas, errors)\n",
    "LamError = np.reshape(LamError, (2, a))\n",
    "np.savetxt(\"OneVRError.csv\", LamError, delimiter = \",\")\n",
    "\n",
    "\n",
    "preds = np.asarray([x[1] for x in resultsOvR]).T\n",
    "a,b =(preds.shape)\n",
    "LamPred = np.append(lambdas, preds)\n",
    "LamPred = np.reshape(LamPred, (a+1, b))\n",
    "np.savetxt(\"OneVRPreds.csv\", LamPred, delimiter = \",\")\n"
   ]
  },
  {
   "cell_type": "markdown",
   "metadata": {
    "deletable": true,
    "editable": true
   },
   "source": [
    "**Crammer Singer**"
   ]
  },
  {
   "cell_type": "code",
   "execution_count": 352,
   "metadata": {
    "collapsed": true,
    "deletable": true,
    "editable": true,
    "scrolled": true
   },
   "outputs": [],
   "source": [
    " def oneVsRestCreatePredsCS(xTrain, yTrain, xTest, lam = 1):\n",
    "    model = LinearSVC(fit_intercept = False, C = lam, class_weight = 'balanced', multi_class = 'crammer_singer')\n",
    "    model.fit(xTrain,yTrain)\n",
    "    preds = model.predict(xTest)\n",
    "    \n",
    "    return(preds)  "
   ]
  },
  {
   "cell_type": "code",
   "execution_count": 16,
   "metadata": {
    "collapsed": false,
    "deletable": true,
    "editable": true,
    "scrolled": false
   },
   "outputs": [
    {
     "name": "stdout",
     "output_type": "stream",
     "text": [
      "The errors corresponding to lambdas are: [ 0.36689815  0.36458333  0.31365741  0.32407407  0.32407407  0.32407407\n",
      "  0.32407407  0.32407407  0.32407407]\n"
     ]
    }
   ],
   "source": [
    "pool = ThreadPool(7)\n",
    "lambdas = (.00001, .0001, .001, .01, .1, 1, 10, 100, 1000)\n",
    "\n",
    "def findError1VRCS(lam):\n",
    "    OneVRPredsCS = oneVsRestCreatePredsCS(xTrain, yTrain, xTest, lam = lam)\n",
    "    errorCS = 1- np.mean(np.equal(OneVRPredsCS,yTest))\n",
    "    return(errorCS, OneVRPredsCS)\n",
    "resultsOvRCS = pool.map(findError1VRCS, lambdas)\n",
    "pool.close\n",
    "pool.join\n",
    "# print(resultsOvRCS)\n",
    "       \n",
    "errors = np.asarray([x[0] for x in resultsOvRCS]).T\n",
    "print(\"The errors corresponding to lambdas are:\", errors)\n",
    "a = errors.shape[0]\n",
    "LamError = np.append(lambdas, errors)\n",
    "LamError = np.reshape(LamError, (2, a))\n",
    "np.savetxt(\"OneVRCSError.csv\", LamError, delimiter = \",\")\n",
    "\n",
    "\n",
    "preds = np.asarray([x[1] for x in resultsOvRCS]).T\n",
    "a,b =(preds.shape)\n",
    "LamPred = np.append(lambdas, preds)\n",
    "LamPred = np.reshape(LamPred, (a+1, b))\n",
    "np.savetxt(\"OneVRCSPreds.csv\", LamPred, delimiter = \",\")"
   ]
  },
  {
   "cell_type": "code",
   "execution_count": 520,
   "metadata": {
    "collapsed": false,
    "deletable": true,
    "editable": true,
    "scrolled": true
   },
   "outputs": [
    {
     "data": {
      "image/png": "[encoded data removed]",
      "text/plain": [
       "<matplotlib.figure.Figure at 0x7fc7c809e128>"
      ]
     },
     "metadata": {},
     "output_type": "display_data"
    }
   ],
   "source": [
    "lambdas = (.00001, .0001, .001, .01, .1, 1, 10, 100, 1000)\n",
    "errors = np.array((0.36689815,  0.36458333,  0.31365741,  0.32407407,  0.32407407,  0.32407407, 0.32407407,  0.32407407,  0.32407407))  \n",
    "fig, ax = plt.subplots()\n",
    "ax.plot(lambdas,errors, 'm-')\n",
    "plt.xlabel('C values tested')\n",
    "plt.ylabel('Misclassification Error')\n",
    "plt.title('Misclassification error vs C in cross validation of linear SVC, Crammer-Singer')\n",
    "\n",
    "ax.plot()\n",
    "plt.xscale('log')"
   ]
  },
  {
   "cell_type": "code",
   "execution_count": 351,
   "metadata": {
    "collapsed": false,
    "deletable": true,
    "editable": true,
    "scrolled": false
   },
   "outputs": [
    {
     "name": "stdout",
     "output_type": "stream",
     "text": [
      "(4320, 2048)\n"
     ]
    }
   ],
   "source": [
    "model = LinearSVC(fit_intercept = False, C = .001, class_weight = 'balanced', multi_class = 'crammer_singer')\n",
    "model.fit(x,y)\n",
    "preds = model.predict(testFeatures)\n",
    "predstoFile(preds, 'CrammerSingerPreds.csv')"
   ]
  },
  {
   "cell_type": "code",
   "execution_count": 475,
   "metadata": {
    "collapsed": false,
    "deletable": true,
    "editable": true,
    "scrolled": true
   },
   "outputs": [
    {
     "name": "stdout",
     "output_type": "stream",
     "text": [
      "PredictionLog.shape: (4320,) 1\n",
      "predictions.shape: (4320,)\n"
     ]
    }
   ],
   "source": [
    "#train model using best lambda and complete training data set, then predict using test features.\n",
    "\n",
    "OneVRPredsCS = oneVsRestCreatePredsCS(x, y, testFeatures, lam = .001)\n",
    "# Add predictions to prediction log\n",
    "PredictionLog, currentModelList = predictionLog(OneVRPredsCS, 'CramSingLam001', currentModelList = currentModelList, PredictionLog = PredictionLog)\n"
   ]
  },
  {
   "cell_type": "code",
   "execution_count": 78,
   "metadata": {
    "collapsed": false,
    "deletable": true,
    "editable": true,
    "scrolled": true
   },
   "outputs": [],
   "source": [
    "from sklearn.model_selection import GridSearchCV\n",
    "\n",
    "parameters = {'C':[.00001, .0001, .001, .01, .1, 1, 10, 100, 1000]}\n",
    "model = LinearSVC(fit_intercept = False, C = .001, class_weight = 'balanced', multi_class = 'crammer_singer')\n",
    "GS_Model = GridSearchCV(model, parameters, n_jobs = -1)\n",
    "GS_Model.fit(x, y)\n",
    "results = GS_Model.cv_results_\n"
   ]
  },
  {
   "cell_type": "code",
   "execution_count": 38,
   "metadata": {
    "collapsed": false,
    "deletable": true,
    "editable": true
   },
   "outputs": [
    {
     "data": {
      "text/plain": [
       "array([], dtype=object)"
      ]
     },
     "execution_count": 38,
     "metadata": {},
     "output_type": "execute_result"
    }
   ],
   "source": [
    "preds = GS_Model.predict(testFeatures)\n",
    "# predstoFile(preds, filename):\n",
    "# newpreds = convertY(preds, Cats, dataLabels) #Converts predictions using my labels to predictions with the standard labels\n",
    "convertY(preds = preds, Cats = Cats, labels = dataLabels)\n",
    "# preds"
   ]
  },
  {
   "cell_type": "markdown",
   "metadata": {
    "deletable": true,
    "editable": true
   },
   "source": [
    "** HW 8 Bullet 1**\n",
    "In this section I will train and cross validate a number of models"
   ]
  },
  {
   "cell_type": "code",
   "execution_count": 490,
   "metadata": {
    "collapsed": false,
    "deletable": true,
    "editable": true,
    "scrolled": true
   },
   "outputs": [],
   "source": [
    "#Build a function to extract scores from various kernel options\n",
    "def myKernel(kernel, c, degree, xTrain = xTrain, yTrain = yTrain, xTest = xTest, yTest = yTest):\n",
    "    model= SVC(C= c, kernel=kernel, degree=degree, gamma='auto',  class_weight='balanced', decision_function_shape='ovr', random_state=0)\n",
    "    model.fit(xTrain, yTrain)\n",
    "    predictions = model.predict(xTest)\n",
    "    score = model.score(xTest,yTest)\n",
    "    return(predictions, score)"
   ]
  },
  {
   "cell_type": "code",
   "execution_count": 491,
   "metadata": {
    "collapsed": false,
    "deletable": true,
    "editable": true,
    "scrolled": true
   },
   "outputs": [],
   "source": [
    "# BestPoly = myKernel(kernel = 'poly', c = 1, degree = 3, xTrain = xTrain, yTrain = yTrain, xTest = xTest, yTest = yTest)"
   ]
  },
  {
   "cell_type": "code",
   "execution_count": 492,
   "metadata": {
    "collapsed": true,
    "deletable": true,
    "editable": true,
    "scrolled": true
   },
   "outputs": [],
   "source": [
    "#Build a function to test various options to find the best polynomial kernel\n",
    "lambdas = (.00001, .0001, .001, .01, .1, 1, 10, 100, 1000,10000,100000,1000000)\n",
    "degrees = (2,3,4,5,6,7,8,9)\n",
    "# lambdas = (.00001, .0001)\n",
    "# degrees = (2,3,4)\n",
    "def bestPoly(lambdas, degrees , xTrain = xTrain, yTrain = yTrain, xTest = xTest, yTest = yTest):\n",
    "    nlams = len(lambdas)\n",
    "    ndegs = len(degrees)\n",
    "    allPreds = np.zeros((nlams, ndegs, yTest.shape[0]))\n",
    "    scores = np.zeros((nlams, ndegs))\n",
    "    bestPreds = np.zeros((ndegs, yTest.shape[0]))\n",
    "    for i in range(len(lambdas)):\n",
    "        c = lambdas[i]\n",
    "        for j in range(len(degrees)):\n",
    "            degree = degrees[j]\n",
    "            allPreds[i, j, :], scores[i,j] = myKernel(kernel = 'poly', c = c, degree = degree)\n",
    "    scores = pd.DataFrame(data=scores, index=lambdas, columns=degrees)\n",
    "    return(allPreds, scores)"
   ]
  },
  {
   "cell_type": "code",
   "execution_count": 493,
   "metadata": {
    "collapsed": false,
    "deletable": true,
    "editable": true,
    "scrolled": true
   },
   "outputs": [],
   "source": [
    "test = bestPoly(lambdas = lambdas, degrees = degrees)"
   ]
  },
  {
   "cell_type": "code",
   "execution_count": 59,
   "metadata": {
    "collapsed": false,
    "deletable": true,
    "editable": true,
    "scrolled": false
   },
   "outputs": [
    {
     "data": {
      "text/html": [
       "<div>\n",
       "<table border=\"1\" class=\"dataframe\">\n",
       "  <thead>\n",
       "    <tr style=\"text-align: right;\">\n",
       "      <th></th>\n",
       "      <th>2</th>\n",
       "      <th>3</th>\n",
       "      <th>4</th>\n",
       "      <th>5</th>\n",
       "      <th>6</th>\n",
       "      <th>7</th>\n",
       "      <th>8</th>\n",
       "      <th>9</th>\n",
       "    </tr>\n",
       "  </thead>\n",
       "  <tbody>\n",
       "    <tr>\n",
       "      <th>0.00001</th>\n",
       "      <td>0.466667</td>\n",
       "      <td>0.216667</td>\n",
       "      <td>0.103333</td>\n",
       "      <td>0.046667</td>\n",
       "      <td>0.026667</td>\n",
       "      <td>0.023333</td>\n",
       "      <td>0.023333</td>\n",
       "      <td>0.020000</td>\n",
       "    </tr>\n",
       "    <tr>\n",
       "      <th>0.00010</th>\n",
       "      <td>0.466667</td>\n",
       "      <td>0.216667</td>\n",
       "      <td>0.103333</td>\n",
       "      <td>0.046667</td>\n",
       "      <td>0.026667</td>\n",
       "      <td>0.023333</td>\n",
       "      <td>0.023333</td>\n",
       "      <td>0.020000</td>\n",
       "    </tr>\n",
       "    <tr>\n",
       "      <th>0.00100</th>\n",
       "      <td>0.466667</td>\n",
       "      <td>0.216667</td>\n",
       "      <td>0.103333</td>\n",
       "      <td>0.046667</td>\n",
       "      <td>0.026667</td>\n",
       "      <td>0.023333</td>\n",
       "      <td>0.023333</td>\n",
       "      <td>0.020000</td>\n",
       "    </tr>\n",
       "    <tr>\n",
       "      <th>0.01000</th>\n",
       "      <td>0.466667</td>\n",
       "      <td>0.216667</td>\n",
       "      <td>0.103333</td>\n",
       "      <td>0.046667</td>\n",
       "      <td>0.026667</td>\n",
       "      <td>0.023333</td>\n",
       "      <td>0.026667</td>\n",
       "      <td>0.030000</td>\n",
       "    </tr>\n",
       "    <tr>\n",
       "      <th>0.10000</th>\n",
       "      <td>0.490000</td>\n",
       "      <td>0.260000</td>\n",
       "      <td>0.136667</td>\n",
       "      <td>0.080000</td>\n",
       "      <td>0.070000</td>\n",
       "      <td>0.066667</td>\n",
       "      <td>0.063333</td>\n",
       "      <td>0.060000</td>\n",
       "    </tr>\n",
       "    <tr>\n",
       "      <th>1.00000</th>\n",
       "      <td>0.713333</td>\n",
       "      <td>0.526667</td>\n",
       "      <td>0.290000</td>\n",
       "      <td>0.176667</td>\n",
       "      <td>0.116667</td>\n",
       "      <td>0.106667</td>\n",
       "      <td>0.086667</td>\n",
       "      <td>0.073333</td>\n",
       "    </tr>\n",
       "    <tr>\n",
       "      <th>10.00000</th>\n",
       "      <td>0.736667</td>\n",
       "      <td>0.653333</td>\n",
       "      <td>0.450000</td>\n",
       "      <td>0.256667</td>\n",
       "      <td>0.180000</td>\n",
       "      <td>0.120000</td>\n",
       "      <td>0.103333</td>\n",
       "      <td>0.090000</td>\n",
       "    </tr>\n",
       "    <tr>\n",
       "      <th>100.00000</th>\n",
       "      <td>0.736667</td>\n",
       "      <td>0.660000</td>\n",
       "      <td>0.466667</td>\n",
       "      <td>0.286667</td>\n",
       "      <td>0.180000</td>\n",
       "      <td>0.130000</td>\n",
       "      <td>0.110000</td>\n",
       "      <td>0.093333</td>\n",
       "    </tr>\n",
       "    <tr>\n",
       "      <th>1000.00000</th>\n",
       "      <td>0.736667</td>\n",
       "      <td>0.660000</td>\n",
       "      <td>0.466667</td>\n",
       "      <td>0.286667</td>\n",
       "      <td>0.200000</td>\n",
       "      <td>0.136667</td>\n",
       "      <td>0.106667</td>\n",
       "      <td>0.090000</td>\n",
       "    </tr>\n",
       "  </tbody>\n",
       "</table>\n",
       "</div>"
      ],
      "text/plain": [
       "                   2         3         4         5         6         7  \\\n",
       "0.00001     0.466667  0.216667  0.103333  0.046667  0.026667  0.023333   \n",
       "0.00010     0.466667  0.216667  0.103333  0.046667  0.026667  0.023333   \n",
       "0.00100     0.466667  0.216667  0.103333  0.046667  0.026667  0.023333   \n",
       "0.01000     0.466667  0.216667  0.103333  0.046667  0.026667  0.023333   \n",
       "0.10000     0.490000  0.260000  0.136667  0.080000  0.070000  0.066667   \n",
       "1.00000     0.713333  0.526667  0.290000  0.176667  0.116667  0.106667   \n",
       "10.00000    0.736667  0.653333  0.450000  0.256667  0.180000  0.120000   \n",
       "100.00000   0.736667  0.660000  0.466667  0.286667  0.180000  0.130000   \n",
       "1000.00000  0.736667  0.660000  0.466667  0.286667  0.200000  0.136667   \n",
       "\n",
       "                   8         9  \n",
       "0.00001     0.023333  0.020000  \n",
       "0.00010     0.023333  0.020000  \n",
       "0.00100     0.023333  0.020000  \n",
       "0.01000     0.026667  0.030000  \n",
       "0.10000     0.063333  0.060000  \n",
       "1.00000     0.086667  0.073333  \n",
       "10.00000    0.103333  0.090000  \n",
       "100.00000   0.110000  0.093333  \n",
       "1000.00000  0.106667  0.090000  "
      ]
     },
     "execution_count": 59,
     "metadata": {},
     "output_type": "execute_result"
    }
   ],
   "source": [
    "#Shows the scores for degree (top axis) and lambda (size axis). Looks like polynomial degree two with lambda 10 can't be beat\n",
    "test[1]"
   ]
  },
  {
   "cell_type": "code",
   "execution_count": 522,
   "metadata": {
    "collapsed": false,
    "deletable": true,
    "editable": true
   },
   "outputs": [],
   "source": [
    "#Fit best polynomial model and save predictions to prediction log\n",
    "model= SVC(C= 10, kernel='poly', degree=2, gamma='auto',  class_weight='balanced', decision_function_shape='ovr', random_state=0)\n",
    "model.fit(x, y)\n",
    "polyOrder2Lam10Preds = model.predict(testFeatures)\n",
    "PredictionLog, currentModelList = predictionLog(polyOrder2Lam10Preds, 'polyOrder2Lam10', currentModelList = currentModelList, PredictionLog = PredictionLog)\n",
    "\n",
    "# predstoFile(preds, 'polyOrder2Lam10.csv')\n",
    "# len(np.unique(preds))"
   ]
  },
  {
   "cell_type": "code",
   "execution_count": 89,
   "metadata": {
    "collapsed": false,
    "deletable": true,
    "editable": true,
    "scrolled": false
   },
   "outputs": [
    {
     "name": "stdout",
     "output_type": "stream",
     "text": [
      "The scores corresponding to lambdas are: [ 0.56134259  0.56134259  0.56134259  0.56134259  0.56134259  0.62731481\n",
      "  0.65046296  0.65046296  0.65046296]\n"
     ]
    }
   ],
   "source": [
    "#Find best parameters for RBF kernel\n",
    "pool = ThreadPool(7)\n",
    "lambdas = (.00001, .0001, .001, .01, .1, 1, 10, 100, 1000)\n",
    "\n",
    "# lambdas = (.00001, .0001)\n",
    "def bestLamRBF(lam):\n",
    "    allPreds, scores = myKernel(kernel = 'rbf', degree = 0, c = lam, xTrain = xTrain, yTrain = yTrain, xTest = xTest, yTest = yTest)\n",
    "    return(allPreds, scores)\n",
    "\n",
    "resultsRBF = pool.map(bestLamRBF, lambdas)\n",
    "pool.close\n",
    "pool.join\n",
    "# print(resultsOvRCS)\n",
    "       \n",
    "scores = np.asarray([x[1] for x in resultsRBF]).T\n",
    "print(\"The scores corresponding to lambdas are:\", scores)\n",
    "a = scores.shape[0]\n",
    "LamScore = np.append(lambdas, scores)\n",
    "LamScore = np.reshape(LamScore, (2, a))\n",
    "np.savetxt(\"ScoresRBF.csv\", LamScore, delimiter = \",\")\n",
    "\n",
    "\n",
    "preds = np.asarray([x[0] for x in resultsRBF]).T\n",
    "a,b =(preds.shape)\n",
    "LamPred = np.append(lambdas, preds)\n",
    "LamPred = np.reshape(LamPred, (a+1, b))\n",
    "np.savetxt(\"RBFPreds.csv\", LamPred, delimiter = \",\")"
   ]
  },
  {
   "cell_type": "code",
   "execution_count": 101,
   "metadata": {
    "collapsed": false,
    "deletable": true,
    "editable": true,
    "scrolled": false
   },
   "outputs": [
    {
     "data": {
      "text/plain": [
       "GridSearchCV(cv=None, error_score='raise',\n",
       "       estimator=SVC(C=1.0, cache_size=200, class_weight='balanced', coef0=0.0,\n",
       "  decision_function_shape='ovr', degree=0, gamma='auto', kernel='rbf',\n",
       "  max_iter=-1, probability=False, random_state=0, shrinking=True,\n",
       "  tol=0.001, verbose=False),\n",
       "       fit_params={}, iid=True, n_jobs=-1,\n",
       "       param_grid={'C': [1e-05, 0.0001, 0.001, 0.01, 0.1, 1, 10, 100, 1000], 'gamma': [1e-05, 0.0001, 0.001, 0.01, 0.1, 1, 10, 100, 1000]},\n",
       "       pre_dispatch='2*n_jobs', refit=True, return_train_score=True,\n",
       "       scoring=None, verbose=0)"
      ]
     },
     "execution_count": 101,
     "metadata": {},
     "output_type": "execute_result"
    }
   ],
   "source": [
    "parameters = {'C':[.00001, .0001, .001, .01, .1, 1, 10, 100, 1000], 'gamma':[.00001, .0001, .001, .01, .1, 1, 10, 100, 1000]}\n",
    "model = SVC( kernel='rbf', degree=0,  class_weight='balanced', decision_function_shape='ovr', random_state=0)\n",
    "\n",
    "RBF_Model = GridSearchCV(model, parameters, n_jobs = -1)\n",
    "RBF_Model.fit(x, y)"
   ]
  },
  {
   "cell_type": "code",
   "execution_count": 477,
   "metadata": {
    "collapsed": false,
    "deletable": true,
    "editable": true
   },
   "outputs": [
    {
     "name": "stdout",
     "output_type": "stream",
     "text": [
      "PredictionLog.shape: (3, 4320) 2\n",
      "predictions.shape: (4320,)\n"
     ]
    }
   ],
   "source": [
    "#Fit model using best parameters and save to prediction log\n",
    "RBFmodel= SVC(kernel='rbf', C = 10, gamma = .0001, degree=0,  class_weight='balanced', decision_function_shape='ovr', random_state=0)\n",
    "RBFmodel.fit(x, y)\n",
    "RBFLam10Gam0001Preds = RBFmodel.predict(testFeatures)\n",
    "PredictionLog, currentModelList = predictionLog(RBFLam10Gam0001Preds, 'RBFLam10Gam0001', currentModelList = currentModelList, PredictionLog = PredictionLog)\n"
   ]
  },
  {
   "cell_type": "code",
   "execution_count": 103,
   "metadata": {
    "collapsed": false,
    "deletable": true,
    "editable": true
   },
   "outputs": [
    {
     "name": "stdout",
     "output_type": "stream",
     "text": [
      "0.679166666667\n",
      "{'C': 10, 'gamma': 0.0001}\n",
      "55\n"
     ]
    }
   ],
   "source": [
    "RBFBestScore = RBF_Model.best_score_\n",
    "RBFBestParams = RBF_Model.best_params_\n",
    "RBFBestIndex = RBF_Model.best_index_\n",
    "print(RBFBestScore)\n",
    "print(RBFBestParams)\n",
    "print(RBFBestIndex)"
   ]
  },
  {
   "cell_type": "code",
   "execution_count": 102,
   "metadata": {
    "collapsed": false,
    "deletable": true,
    "editable": true
   },
   "outputs": [
    {
     "data": {
      "text/plain": [
       "GridSearchCV(cv=None, error_score='raise',\n",
       "       estimator=SVC(C=1.0, cache_size=200, class_weight='balanced', coef0=0.0,\n",
       "  decision_function_shape='ovo', degree=0, gamma='auto', kernel='rbf',\n",
       "  max_iter=-1, probability=False, random_state=0, shrinking=True,\n",
       "  tol=0.001, verbose=False),\n",
       "       fit_params={}, iid=True, n_jobs=-1,\n",
       "       param_grid={'C': [1e-05, 0.0001, 0.001, 0.01, 0.1, 1, 10, 100, 1000], 'gamma': [1e-05, 0.0001, 0.001, 0.01, 0.1, 1, 10, 100, 1000]},\n",
       "       pre_dispatch='2*n_jobs', refit=True, return_train_score=True,\n",
       "       scoring=None, verbose=0)"
      ]
     },
     "execution_count": 102,
     "metadata": {},
     "output_type": "execute_result"
    }
   ],
   "source": [
    "parameters = {'C':[.00001, .0001, .001, .01, .1, 1, 10, 100, 1000], 'gamma':[.00001, .0001, .001, .01, .1, 1, 10, 100, 1000]}\n",
    "model = SVC( kernel='rbf', degree=0,  class_weight='balanced', decision_function_shape='ovo', random_state=0)\n",
    "\n",
    "RBFOVO_Model = GridSearchCV(model, parameters, n_jobs = -1)\n",
    "RBFOVO_Model.fit(x, y)"
   ]
  },
  {
   "cell_type": "code",
   "execution_count": 100,
   "metadata": {
    "collapsed": false,
    "deletable": true,
    "editable": true
   },
   "outputs": [
    {
     "name": "stdout",
     "output_type": "stream",
     "text": [
      "0.679166666667\n",
      "{'C': 10, 'gamma': 0.0001}\n",
      "55\n"
     ]
    }
   ],
   "source": [
    "RBFOvOBestScore = RBFOVO_Model.best_score_\n",
    "RBFOvOBestParams = RBFOVO_Model.best_params_\n",
    "RBFOvOBestIndex = RBFOVO_Model.best_index_\n",
    "print(RBFOvOBestScore)\n",
    "print(RBFOvOBestParams)\n",
    "print(RBFOvOBestIndex)\n"
   ]
  },
  {
   "cell_type": "code",
   "execution_count": 79,
   "metadata": {
    "collapsed": true,
    "deletable": true,
    "editable": true
   },
   "outputs": [],
   "source": [
    "#find best parameters for sigmoid fuction\n",
    "parameters = {'C':[.00001, .0001, .001, .01, .1, 1, 10, 100, 1000], 'gamma':[.00001, .0001, .001, .01, .1, 1, 10, 100, 1000]}\n",
    "model = SVC( kernel='sigmoid', degree=0,  class_weight='balanced', decision_function_shape='ovr', random_state=0)\n",
    "\n",
    "Sigmoid_Model = GridSearchCV(model, parameters, n_jobs = -1)\n",
    "Sigmoid_Model.fit(x, y)\n"
   ]
  },
  {
   "cell_type": "code",
   "execution_count": 96,
   "metadata": {
    "collapsed": false,
    "deletable": true,
    "editable": true
   },
   "outputs": [
    {
     "name": "stdout",
     "output_type": "stream",
     "text": [
      "0.676157407407\n",
      "{'C': 1000, 'gamma': 1e-05}\n",
      "72\n"
     ]
    },
    {
     "data": {
      "text/plain": [
       "0.67615740740740737"
      ]
     },
     "execution_count": 96,
     "metadata": {},
     "output_type": "execute_result"
    }
   ],
   "source": [
    "# # Sigresults = Sigmoid_Model.cv_result\n",
    "SigmoidBestScore = Sigmoid_Model.best_score_\n",
    "SigmoidBestParams = Sigmoid_Model.best_params_\n",
    "SigmoidBestIndex = Sigmoid_Model.best_index_\n",
    "print(SigmoidBestScore)\n",
    "print(SigmoidBestParams)\n",
    "print(SigmoidBestIndex)\n",
    "Sigmoid_Model.best_score_"
   ]
  },
  {
   "cell_type": "code",
   "execution_count": 523,
   "metadata": {
    "collapsed": true,
    "deletable": true,
    "editable": true
   },
   "outputs": [],
   "source": [
    "parameters = {'C':[.00001, .0001, .001, .01, .1, 1, 10, 100, 1000], 'gamma':[.00001, .0001, .001, .01, .1, 1, 10, 100, 1000]}\n",
    "model = SVC( kernel='sigmoid', degree=0,  class_weight='balanced', decision_function_shape='ovo', random_state=0)\n",
    "\n",
    "SigmoidOVO_Model = GridSearchCV(model, parameters, n_jobs = -1)\n",
    "SigmoidOVO_Model.fit(x, y)\n",
    "SigOVOresults = Sigmoid_Model.cv_results_\n"
   ]
  },
  {
   "cell_type": "code",
   "execution_count": 98,
   "metadata": {
    "collapsed": false,
    "deletable": true,
    "editable": true
   },
   "outputs": [
    {
     "name": "stdout",
     "output_type": "stream",
     "text": [
      "0.676157407407\n",
      "{'C': 1000, 'gamma': 1e-05}\n",
      "72\n"
     ]
    }
   ],
   "source": [
    "SigmoidovoBestScore = SigmoidOVO_Model.best_score_\n",
    "SigmoidovoBestParams = SigmoidOVO_Model.best_params_\n",
    "SigmoidovoBestIndex = SigmoidOVO_Model.best_index_\n",
    "print(SigmoidovoBestScore)\n",
    "print(SigmoidovoBestParams)\n",
    "print(SigmoidovoBestIndex)\n"
   ]
  },
  {
   "cell_type": "code",
   "execution_count": 478,
   "metadata": {
    "collapsed": false,
    "deletable": true,
    "editable": true,
    "scrolled": true
   },
   "outputs": [
    {
     "name": "stdout",
     "output_type": "stream",
     "text": [
      "PredictionLog.shape: (4, 4320) 2\n",
      "predictions.shape: (4320,)\n"
     ]
    }
   ],
   "source": [
    "#Fit model with best parameters and save to prediction log\n",
    "Sigmodel= SVC(kernel='sigmoid', C = 1000, gamma = .00001, degree=0,  class_weight='balanced', decision_function_shape='ovr', random_state=0)\n",
    "Sigmodel.fit(x, y)\n",
    "SigLam1000Gam00001Preds = Sigmodel.predict(testFeatures)\n",
    "PredictionLog, currentModelList = predictionLog(SigLam1000Gam00001Preds, 'SigLam1000Gam00001', currentModelList = currentModelList, PredictionLog = PredictionLog)\n"
   ]
  },
  {
   "cell_type": "code",
   "execution_count": 90,
   "metadata": {
    "collapsed": false,
    "deletable": true,
    "editable": true,
    "scrolled": true
   },
   "outputs": [
    {
     "name": "stdout",
     "output_type": "stream",
     "text": [
      "The scores corresponding to lambdas are: [ 0.50578704  0.50578704  0.50578704  0.50578704  0.50578704  0.61574074\n",
      "  0.63888889  0.61111111  0.61111111]\n"
     ]
    }
   ],
   "source": [
    "pool = ThreadPool(7)\n",
    "lambdas = (.00001, .0001, .001, .01, .1, 1, 10, 100, 1000)\n",
    "\n",
    "# lambdas = (.00001, .0001)\n",
    "def bestLamSigmoid(lam):\n",
    "    allPreds, scores = myKernel(kernel = 'sigmoid', degree = 0, c = lam, xTrain = xTrain, yTrain = yTrain, xTest = xTest, yTest = yTest)\n",
    "    return(allPreds, scores)\n",
    "\n",
    "resultsSigmoid = pool.map(bestLamSigmoid, lambdas)\n",
    "pool.close\n",
    "pool.join\n",
    "# print(resultsOvRCS)\n",
    "       \n",
    "scores = np.asarray([x[1] for x in resultsSigmoid]).T\n",
    "print(\"The scores corresponding to lambdas are:\", scores)\n",
    "a = scores.shape[0]\n",
    "LamScore = np.append(lambdas, scores)\n",
    "LamScore = np.reshape(LamScore, (2, a))\n",
    "np.savetxt(\"ScoresSigmoid.csv\", LamScore, delimiter = \",\")\n",
    "\n",
    "\n",
    "preds = np.asarray([x[0] for x in resultsSigmoid]).T\n",
    "a,b =(preds.shape)\n",
    "LamPred = np.append(lambdas, preds)\n",
    "LamPred = np.reshape(LamPred, (a+1, b))\n",
    "np.savetxt(\"SigmoidPreds.csv\", LamPred, delimiter = \",\")"
   ]
  },
  {
   "cell_type": "markdown",
   "metadata": {
    "deletable": true,
    "editable": true
   },
   "source": [
    "**HW 8 Bullet 2 **"
   ]
  },
  {
   "cell_type": "code",
   "execution_count": 524,
   "metadata": {
    "collapsed": false,
    "deletable": true,
    "editable": true
   },
   "outputs": [
    {
     "name": "stdout",
     "output_type": "stream",
     "text": [
      "[[114  41  49 ...,  94  93  69]\n",
      " [ 22  91  49 ...,  94  93  25]\n",
      " [114  91  49 ...,  94  93  69]\n",
      " [ 36  36  36 ...,  36  36  36]\n",
      " [ 22  41  49 ...,  94  93  78]]\n",
      "['OneVOneLam01' 'CramSingLam001' 'polyOrder2Lam10' 'RBFLam10Gam0001'\n",
      " 'SigLam1000Gam00001']\n"
     ]
    }
   ],
   "source": [
    "#Review prediction log with best models. Let them all vote on the best one. Submit vote to kaggle. shucks - this does terribly in kaggle! \n",
    "print(PredictionLog)\n",
    "print(currentModelList)\n",
    "a = stats.mode(PredictionLog)\n",
    "bestGuess = a[0]\n",
    "predstoFile(bestGuess.T, 'bestGuess.csv')"
   ]
  },
  {
   "cell_type": "code",
   "execution_count": 22,
   "metadata": {
    "collapsed": false,
    "deletable": true,
    "editable": true
   },
   "outputs": [
    {
     "name": "stdout",
     "output_type": "stream",
     "text": [
      "begin soft voting computation\n"
     ]
    }
   ],
   "source": [
    "LinSVC = SVC(kernel = 'linear',degree=2, gamma='auto', C = .1, probability = True, decision_function_shape = 'ovo')\n",
    "\n",
    "SVMPoly2 = SVC(kernel='poly', degree=2, gamma='auto', C = 10, probability = True)\n",
    "RBF = SVC( kernel='rbf', C = 10, probability = True)\n",
    "LogReg = LogisticRegression()\n",
    "\n",
    "# VotingHard = VotingClassifier(estimators=[('LogReg', LogReg), ('SVMPoly2', SVMPoly2), ('RBF', RBF), ('LinSVC', LinSVC)],  weights = [.28, .24, .24, .24], n_jobs = -1, voting='hard')\n",
    "# VotingHard.fit(x, y)\n",
    "# PredsHard = (VotingHard.predict(testFeatures))\n",
    "# predstoFile(PredsHard, 'VotingHardPreds.csv')\n",
    "print(\"begin soft voting computation\")\n",
    "VotingSoft = VotingClassifier(estimators=[('LinSVC', LinSVC), ('LogReg', LogReg), ('SVMPoly2', SVMPoly2), ('RBF', RBF)],  n_jobs = -1, voting='soft')\n",
    "VotingSoft.fit(x, y)\n",
    "PredsSoft = (VotingSoft.predict(testFeatures))\n",
    "predstoFile(PredsSoft, 'VotingSoftPreds.csv')\n"
   ]
  },
  {
   "cell_type": "code",
   "execution_count": 17,
   "metadata": {
    "collapsed": true
   },
   "outputs": [],
   "source": [
    "predstoFile(PredsHard, 'VotingHardPreds.csv')"
   ]
  },
  {
   "cell_type": "code",
   "execution_count": 25,
   "metadata": {
    "collapsed": false
   },
   "outputs": [],
   "source": [
    "LinSVC = SVC(kernel = 'linear', probability = True)\n",
    "SVMPoly2 = SVC(kernel='poly',probability = True)\n",
    "RBF = SVC( kernel='rbf',probability = True)\n",
    "LogReg = LogisticRegression()\n",
    "\n",
    "VotingSoft = VotingClassifier(estimators=[('LogReg', LogReg), ('SVMPoly2', SVMPoly2), ('RBF', RBF), ('LinSVC', LinSVC), ('Sigmoid', Sigmoid)], n_jobs = -1, voting='soft')\n",
    "VotingSoft.fit(x, y)\n",
    "PredsSoft = (VotingSoft.predict(testFeatures))\n",
    "predstoFile(PredsSoft, 'VotingSoftPredsfive.csv')\n"
   ]
  },
  {
   "cell_type": "code",
   "execution_count": null,
   "metadata": {
    "collapsed": true
   },
   "outputs": [],
   "source": []
  }
 ],
 "metadata": {
  "anaconda-cloud": {},
  "kernelspec": {
   "display_name": "Python [Root]",
   "language": "python",
   "name": "Python [Root]"
  },
  "language_info": {
   "codemirror_mode": {
    "name": "ipython",
    "version": 3
   },
   "file_extension": ".py",
   "mimetype": "text/x-python",
   "name": "python",
   "nbconvert_exporter": "python",
   "pygments_lexer": "ipython3",
   "version": "3.5.2"
  }
 },
 "nbformat": 4,
 "nbformat_minor": 0
}
